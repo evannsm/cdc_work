{
  "cells": [
    {
      "cell_type": "code",
      "execution_count": 12,
      "metadata": {
        "colab": {
          "base_uri": "https://localhost:8080/"
        },
        "id": "-Qd10a7H9gQO",
        "outputId": "bd90eef4-ad24-4c87-8619-4a57f05e023a"
      },
      "outputs": [],
      "source": [
        "# # Cell 1\n",
        "# from google.colab import drive\n",
        "# drive.mount('/content/drive')"
      ]
    },
    {
      "cell_type": "code",
      "execution_count": 13,
      "metadata": {
        "colab": {
          "background_save": true,
          "base_uri": "https://localhost:8080/"
        },
        "id": "86jxlKXw9k9G",
        "outputId": "78bd5454-b68b-49c5-d816-c0d27cf5f437"
      },
      "outputs": [],
      "source": [
        "# # Cell 2\n",
        "# %cd /content/drive/MyDrive/1)FinalProj"
      ]
    },
    {
      "cell_type": "code",
      "execution_count": 14,
      "metadata": {
        "colab": {
          "base_uri": "https://localhost:8080/"
        },
        "id": "PRw3BUEU9m_K",
        "outputId": "83f375be-89e2-42ad-f596-e5d83a8f787f"
      },
      "outputs": [],
      "source": [
        "# %ls"
      ]
    },
    {
      "cell_type": "markdown",
      "metadata": {},
      "source": [
        "# Set up Data Generation"
      ]
    },
    {
      "cell_type": "code",
      "execution_count": 1,
      "metadata": {
        "id": "vw-kgNexfNfT"
      },
      "outputs": [],
      "source": [
        "import numpy as np\n",
        "import pandas as pd\n",
        "from torch.utils.data import Dataset\n",
        "import torch\n",
        "from numpy import random\n",
        "from sympy import *\n"
      ]
    },
    {
      "cell_type": "code",
      "execution_count": 2,
      "metadata": {
        "id": "nb5hdnQVfQtx"
      },
      "outputs": [],
      "source": [
        "g =  9.806\n",
        "m = 1.73"
      ]
    },
    {
      "cell_type": "code",
      "execution_count": 3,
      "metadata": {
        "id": "Xh6nzbElfX1x"
      },
      "outputs": [],
      "source": [
        "curr_thrust = random.uniform(0.5,27)\n",
        "curr_rolldot, curr_pitchdot, curr_yawdot = random.uniform(-0.9,0.9), random.uniform(-0.9,0.9), random.uniform(-0.9,0.9)\n"
      ]
    },
    {
      "cell_type": "code",
      "execution_count": 4,
      "metadata": {
        "id": "LsRmjro-mW1J"
      },
      "outputs": [],
      "source": [
        "curr_x, curr_y, curr_z = random.uniform(-3,3), random.uniform(-3,3), random.uniform(0,2)\n",
        "curr_vx, curr_vy, curr_vz = random.uniform(-.7,.7), random.uniform(-.7,.7), random.uniform(-.7,.7)\n",
        "curr_roll, curr_pitch, curr_yaw = random.uniform(-.2,.2), random.uniform(-.2,.2), random.uniform(-.2,.2)"
      ]
    },
    {
      "cell_type": "code",
      "execution_count": 5,
      "metadata": {
        "id": "0sstQOM86UaP"
      },
      "outputs": [],
      "source": [
        "T_lookahead = 0.8\n",
        "integration_step = 0.1\n",
        "integrations = T_lookahead / integration_step\n",
        "integrations_int = int(integrations)"
      ]
    },
    {
      "cell_type": "code",
      "execution_count": 6,
      "metadata": {
        "id": "YJvhJKzW_AVq"
      },
      "outputs": [],
      "source": [
        "C = np.array([[1, 0, 0, 0, 0, 0, 0, 0, 0],\n",
        "        [0, 1, 0, 0, 0, 0, 0, 0, 0],\n",
        "        [0, 0, 1, 0, 0, 0, 0, 0, 0],\n",
        "        [0, 0, 0, 0, 0, 0, 0, 0, 1]])"
      ]
    },
    {
      "cell_type": "code",
      "execution_count": 7,
      "metadata": {
        "id": "OlCuRAXi-Lgs"
      },
      "outputs": [],
      "source": [
        "cumm_change_x = 0.0\n",
        "cumm_change_y = 0.0\n",
        "cumm_change_z = 0.0\n",
        "cumm_change_vx = 0.0\n",
        "cumm_change_vy = 0.0\n",
        "cumm_change_vz = 0.0\n",
        "cumm_change_roll = 0.0\n",
        "cumm_change_pitch = 0.0\n",
        "cumm_change_yaw = 0.0\n",
        "\n",
        "xdot = curr_vx\n",
        "ydot = curr_vy\n",
        "zdot = curr_vz\n",
        "\n",
        "vxdot = -(curr_thrust/m) * (sin(curr_roll)*sin(curr_yaw) + cos(curr_roll)*cos(curr_yaw)*sin(curr_pitch));\n",
        "vydot = -(curr_thrust/m) * (cos(curr_roll)*sin(curr_yaw)*sin(curr_pitch) - cos(curr_yaw)*sin(curr_roll));\n",
        "vzdot = g - (curr_thrust/m) * (cos(curr_roll)*cos(curr_pitch));\n",
        "\n",
        "rolldot = curr_rolldot\n",
        "pitchdot = curr_pitchdot\n",
        "yawdot = curr_yawdot\n",
        "\n",
        "roll = curr_roll\n",
        "pitch = curr_pitch\n",
        "yaw = curr_yaw\n",
        "change_vx = 0\n",
        "change_vy = 0\n",
        "change_vz = 0\n"
      ]
    },
    {
      "cell_type": "code",
      "execution_count": 8,
      "metadata": {
        "id": "VSQ6b2Hr9X44"
      },
      "outputs": [],
      "source": [
        "for _ in range(integrations_int):\n",
        "  change_x = (xdot+cumm_change_vx) * integration_step;\n",
        "  change_y = (ydot+cumm_change_vy) * integration_step;\n",
        "  change_z = (zdot+cumm_change_vz) * integration_step;\n",
        "  change_vx = vxdot * integration_step;\n",
        "  change_vy = vydot * integration_step;\n",
        "  change_vz = vzdot * integration_step;\n",
        "  change_roll = rolldot * integration_step;\n",
        "  change_pitch = pitchdot * integration_step;\n",
        "  change_yaw = yawdot * integration_step;\n",
        "\n",
        "  roll = roll + change_roll;\n",
        "  pitch = pitch + change_pitch;\n",
        "  yaw =  yaw + change_yaw;\n",
        "\n",
        "  sr = sin(roll)\n",
        "  sy = sin(yaw)\n",
        "  sp = sin(pitch)\n",
        "\n",
        "  cr = cos(roll)\n",
        "  cp = cos(pitch)\n",
        "  cy = cos(yaw)\n",
        "\n",
        "\n",
        "  vxdot = -(curr_thrust/m) * (sr*sy + cr*cy*sp);\n",
        "  vydot = -(curr_thrust/m) * (cr*sy*sp - cy*sr);\n",
        "  vzdot = g - (curr_thrust/m) * (cr*cp);\n",
        "\n",
        "\n",
        "  cumm_change_x = cumm_change_x + change_x;\n",
        "  cumm_change_y = cumm_change_y + change_y;\n",
        "  cumm_change_z = cumm_change_z + change_z;\n",
        "  cumm_change_vx = cumm_change_vx + change_vx;\n",
        "  cumm_change_vy = cumm_change_vy + change_vy;\n",
        "  cumm_change_vz = cumm_change_vz + change_vz;\n",
        "  cumm_change_roll = cumm_change_roll + change_roll;\n",
        "  cumm_change_pitch = cumm_change_pitch + change_pitch;\n",
        "  cumm_change_yaw = cumm_change_yaw + change_yaw;\n",
        "\n",
        "\n",
        "\n",
        "\n",
        "x = curr_x + cumm_change_x\n",
        "y = curr_y + cumm_change_y\n",
        "z = curr_z + cumm_change_z\n",
        "\n",
        "vx = curr_vx + cumm_change_vx\n",
        "vy = curr_vy + cumm_change_vy\n",
        "vz = curr_vz + cumm_change_vz\n",
        "\n",
        "roll = curr_roll + cumm_change_roll;\n",
        "pitch = curr_pitch + cumm_change_pitch;\n",
        "yaw = curr_yaw + cumm_change_yaw;\n",
        "\n",
        "nonlin_pred = np.array([[x, y, z, vx, vy, vz, roll, pitch, yaw]]).T\n",
        "outputs = C @ nonlin_pred"
      ]
    },
    {
      "cell_type": "code",
      "execution_count": 9,
      "metadata": {
        "colab": {
          "base_uri": "https://localhost:8080/"
        },
        "id": "k5pfCk2590Tc",
        "outputId": "b7bcb19d-9732-4cb8-cb74-67aff7ba1de8"
      },
      "outputs": [
        {
          "data": {
            "text/plain": [
              "array([[2.45087898918609],\n",
              "       [-2.14235757666371],\n",
              "       [3.33156038047400],\n",
              "       [-0.577542897735830]], dtype=object)"
            ]
          },
          "execution_count": 9,
          "metadata": {},
          "output_type": "execute_result"
        }
      ],
      "source": [
        "outputs"
      ]
    },
    {
      "cell_type": "code",
      "execution_count": 10,
      "metadata": {
        "id": "pjKdpJ-wAdFX"
      },
      "outputs": [],
      "source": [
        "def get_outputs(num_data_gen=100):\n",
        "  allData = np.empty((0, 17))\n",
        "  # print(allData)\n",
        "  for i in range(num_data_gen):\n",
        "    curr_thrust = random.uniform(0.5,27)\n",
        "    curr_rolldot, curr_pitchdot, curr_yawdot = random.uniform(-0.9,0.9), random.uniform(-0.9,0.9), random.uniform(-0.9,0.9)\n",
        "    curr_x, curr_y, curr_z = random.uniform(-3,3), random.uniform(-3,3), random.uniform(0,-2)\n",
        "    # print(f\"curr_z: {curr_z}\")\n",
        "    # print(f\"curr_thrust: {curr_thrust}\")\n",
        "    curr_vx, curr_vy, curr_vz = random.uniform(-.7,.7), random.uniform(-.7,.7), random.uniform(-.7,.7)\n",
        "    curr_roll, curr_pitch, curr_yaw = random.uniform(-.2,.2), random.uniform(-.2,.2), random.uniform(-.2,.2)\n",
        "\n",
        "    stateVector = [curr_x, curr_y, curr_z, curr_vx, curr_vy, curr_vz, curr_roll, curr_pitch, curr_yaw]\n",
        "    inputVector = [curr_thrust, curr_rolldot, curr_pitchdot, curr_yawdot]\n",
        "\n",
        "    cumm_change_x = 0.0\n",
        "    cumm_change_y = 0.0\n",
        "    cumm_change_z = 0.0\n",
        "    cumm_change_vx = 0.0\n",
        "    cumm_change_vy = 0.0\n",
        "    cumm_change_vz = 0.0\n",
        "    cumm_change_roll = 0.0\n",
        "    cumm_change_pitch = 0.0\n",
        "    cumm_change_yaw = 0.0\n",
        "\n",
        "    xdot = curr_vx\n",
        "    ydot = curr_vy\n",
        "    zdot = curr_vz\n",
        "\n",
        "    vxdot = -(curr_thrust/m) * (sin(curr_roll)*sin(curr_yaw) + cos(curr_roll)*cos(curr_yaw)*sin(curr_pitch));\n",
        "    vydot = -(curr_thrust/m) * (cos(curr_roll)*sin(curr_yaw)*sin(curr_pitch) - cos(curr_yaw)*sin(curr_roll));\n",
        "    vzdot = g - (curr_thrust/m) * (cos(curr_roll)*cos(curr_pitch));\n",
        "\n",
        "    rolldot = curr_rolldot\n",
        "    pitchdot = curr_pitchdot\n",
        "    yawdot = curr_yawdot\n",
        "\n",
        "    roll = curr_roll\n",
        "    pitch = curr_pitch\n",
        "    yaw = curr_yaw\n",
        "    change_vx = 0\n",
        "    change_vy = 0\n",
        "    change_vz = 0\n",
        "\n",
        "    for _ in range(integrations_int):\n",
        "      change_x = (xdot+cumm_change_vx) * integration_step;\n",
        "      change_y = (ydot+cumm_change_vy) * integration_step;\n",
        "      change_z = (zdot+cumm_change_vz) * integration_step;\n",
        "      change_vx = vxdot * integration_step;\n",
        "      change_vy = vydot * integration_step;\n",
        "      change_vz = vzdot * integration_step;\n",
        "      change_roll = rolldot * integration_step;\n",
        "      change_pitch = pitchdot * integration_step;\n",
        "      change_yaw = yawdot * integration_step;\n",
        "\n",
        "      roll = roll + change_roll;\n",
        "      pitch = pitch + change_pitch;\n",
        "      yaw =  yaw + change_yaw;\n",
        "\n",
        "      sr = sin(roll)\n",
        "      sy = sin(yaw)\n",
        "      sp = sin(pitch)\n",
        "\n",
        "      cr = cos(roll)\n",
        "      cp = cos(pitch)\n",
        "      cy = cos(yaw)\n",
        "\n",
        "\n",
        "      vxdot = -(curr_thrust/m) * (sr*sy + cr*cy*sp);\n",
        "      vydot = -(curr_thrust/m) * (cr*sy*sp - cy*sr);\n",
        "      vzdot = g - (curr_thrust/m) * (cr*cp);\n",
        "\n",
        "\n",
        "      cumm_change_x = cumm_change_x + change_x;\n",
        "      cumm_change_y = cumm_change_y + change_y;\n",
        "      cumm_change_z = cumm_change_z + change_z;\n",
        "      cumm_change_vx = cumm_change_vx + change_vx;\n",
        "      cumm_change_vy = cumm_change_vy + change_vy;\n",
        "      cumm_change_vz = cumm_change_vz + change_vz;\n",
        "      cumm_change_roll = cumm_change_roll + change_roll;\n",
        "      cumm_change_pitch = cumm_change_pitch + change_pitch;\n",
        "      cumm_change_yaw = cumm_change_yaw + change_yaw;\n",
        "\n",
        "\n",
        "    x = curr_x + cumm_change_x\n",
        "    y = curr_y + cumm_change_y\n",
        "    z = curr_z + cumm_change_z\n",
        "    # print(f\"z: {z}\")\n",
        "    # print(\"\\n\")\n",
        "\n",
        "    vx = curr_vx + cumm_change_vx\n",
        "    vy = curr_vy + cumm_change_vy\n",
        "    vz = curr_vz + cumm_change_vz\n",
        "\n",
        "    roll = curr_roll + cumm_change_roll;\n",
        "    pitch = curr_pitch + cumm_change_pitch;\n",
        "    yaw = curr_yaw + cumm_change_yaw;\n",
        "\n",
        "    nonlin_pred = np.array([[x, y, z, vx, vy, vz, roll, pitch, yaw]]).T\n",
        "    outputs = C @ nonlin_pred\n",
        "\n",
        "    outputs2 = outputs.squeeze().tolist()\n",
        "    finalData = stateVector + inputVector + outputs2\n",
        "    finalData = np.array(finalData, dtype=float)\n",
        "    allData = np.vstack((allData, finalData))\n",
        "\n",
        "  return allData"
      ]
    },
    {
      "cell_type": "code",
      "execution_count": 11,
      "metadata": {
        "colab": {
          "base_uri": "https://localhost:8080/"
        },
        "id": "cw252eeDAdHw",
        "outputId": "c3ed7c85-42c6-43dd-fd60-655a94724949"
      },
      "outputs": [
        {
          "data": {
            "text/plain": [
              "(2, 17)"
            ]
          },
          "execution_count": 11,
          "metadata": {},
          "output_type": "execute_result"
        }
      ],
      "source": [
        "get_outputs(2).shape"
      ]
    },
    {
      "cell_type": "code",
      "execution_count": 12,
      "metadata": {},
      "outputs": [],
      "source": [
        "# data_all = get_outputs(num_data_gen=50_000)"
      ]
    },
    {
      "cell_type": "code",
      "execution_count": 13,
      "metadata": {},
      "outputs": [],
      "source": [
        "# np.save('50kdataNegZ', data_all)"
      ]
    },
    {
      "cell_type": "markdown",
      "metadata": {},
      "source": [
        "# Set up Neural Network Parameters and DataLoaders"
      ]
    },
    {
      "cell_type": "code",
      "execution_count": 14,
      "metadata": {
        "id": "VSGIt3PB_Sj6"
      },
      "outputs": [],
      "source": [
        "from torch import nn\n",
        "import torch\n",
        "from torch.utils.data import Dataset\n",
        "from torch.utils.data import DataLoader\n",
        "import matplotlib.pyplot as plt\n"
      ]
    },
    {
      "cell_type": "code",
      "execution_count": 15,
      "metadata": {
        "id": "g7YK_iAB_9uU"
      },
      "outputs": [],
      "source": [
        "num_epochs = 50\n",
        "batch_size = 128\n",
        "learning_rate = 1e-3"
      ]
    },
    {
      "cell_type": "code",
      "execution_count": 16,
      "metadata": {},
      "outputs": [],
      "source": [
        "data_all = np.load('50kdataNegZ.npy')"
      ]
    },
    {
      "cell_type": "code",
      "execution_count": 53,
      "metadata": {
        "id": "VIDuRmTDAFJD"
      },
      "outputs": [],
      "source": [
        "class QuadrotorDataset(Dataset):\n",
        "  def __init__(self, data_path = 'testing.csv', time_size=1, state_size = 9, ctrlinput_size = 4, training=True, data_all = data_all):\n",
        "    self.input_size = state_size + ctrlinput_size\n",
        "    self.output_size = ctrlinput_size\n",
        "\n",
        "    self.data = data_all\n",
        "\n",
        "    np.random.shuffle(data_all)\n",
        "    train_size = int(len(data_all)*0.8)\n",
        "\n",
        "\n",
        "    if training:\n",
        "      self.data = data_all[0:train_size]\n",
        "    else:\n",
        "      self.data = data_all[train_size:]\n",
        "\n",
        "    print(self.data.shape)\n",
        "\n",
        "  def __len__(self):\n",
        "    return len(self.data)\n",
        "\n",
        "  def __getitem__(self, idx):\n",
        "    # print(self.data[idx,:])\n",
        "    inputs = self.data[idx, 0: self.input_size]\n",
        "    outputs = self.data[idx, self.input_size:]\n",
        "    # print(type(inputs))\n",
        "    # print(type(outputs))\n",
        "    # print(inputs)\n",
        "    # print(inputs.dtype)\n",
        "    # print(\"h\")\n",
        "    return torch.FloatTensor(inputs), torch.FloatTensor(outputs).view(4)\n",
        "    return torch.FloatTensor(inputs), torch.FloatTensor(outputs)"
      ]
    },
    {
      "cell_type": "code",
      "execution_count": 54,
      "metadata": {
        "colab": {
          "base_uri": "https://localhost:8080/"
        },
        "id": "VFSfJ40v_uxX",
        "outputId": "3955bed6-f886-4bcd-b387-5d063947b727"
      },
      "outputs": [
        {
          "name": "stdout",
          "output_type": "stream",
          "text": [
            "(40000, 17)\n",
            "(10000, 17)\n"
          ]
        }
      ],
      "source": [
        "train_dataset = QuadrotorDataset(training=True)\n",
        "test_dataset = QuadrotorDataset(training=False)"
      ]
    },
    {
      "cell_type": "code",
      "execution_count": 55,
      "metadata": {
        "colab": {
          "base_uri": "https://localhost:8080/"
        },
        "id": "8vApRct6GopZ",
        "outputId": "b3003f64-9446-4762-f7da-34d090aa5a66"
      },
      "outputs": [
        {
          "data": {
            "text/plain": [
              "(tensor([-2.6992e+00,  4.3312e-01, -2.5934e-01,  2.4410e-02,  3.0661e-01,\n",
              "          5.0955e-01,  1.5481e-01,  1.3216e-01,  6.7444e-02,  1.9766e+01,\n",
              "          4.2388e-01, -8.6233e-01,  1.6230e-02]),\n",
              " tensor([-2.6205,  1.4427, -0.1693,  0.0804]))"
            ]
          },
          "execution_count": 55,
          "metadata": {},
          "output_type": "execute_result"
        }
      ],
      "source": [
        "train_dataset[0]"
      ]
    },
    {
      "cell_type": "code",
      "execution_count": 56,
      "metadata": {},
      "outputs": [
        {
          "name": "stdout",
          "output_type": "stream",
          "text": [
            "torch.Size([1, 4])\n",
            "tensor([[ 1.1665, -3.0672,  0.1124, -0.1214]])\n",
            "2\n"
          ]
        }
      ],
      "source": [
        "train_dataloader = DataLoader(\n",
        "    train_dataset,\n",
        "    batch_size=1,\n",
        "    shuffle=True,\n",
        ")\n",
        "for data in train_dataloader:\n",
        "    input_data, output_data = data\n",
        "    print(output_data.shape)\n",
        "    print(output_data)\n",
        "    print(output_data.dim())\n",
        "    break"
      ]
    },
    {
      "cell_type": "code",
      "execution_count": 40,
      "metadata": {
        "id": "jzhjo0mz_uzv"
      },
      "outputs": [],
      "source": [
        "train_dataloader = DataLoader(\n",
        "    train_dataset,\n",
        "    batch_size=batch_size,\n",
        "    shuffle=True,\n",
        ")"
      ]
    },
    {
      "cell_type": "code",
      "execution_count": 22,
      "metadata": {
        "id": "7kKaQXdY_u2N"
      },
      "outputs": [],
      "source": [
        "test_dataloader = DataLoader(\n",
        "    test_dataset,\n",
        "    batch_size=batch_size,\n",
        "    shuffle=False,\n",
        ")"
      ]
    },
    {
      "cell_type": "markdown",
      "metadata": {},
      "source": [
        "# Feed Forward"
      ]
    },
    {
      "cell_type": "code",
      "execution_count": 30,
      "metadata": {
        "id": "DWzisOK-_i9w"
      },
      "outputs": [],
      "source": [
        "class FeedForward(nn.Module):\n",
        "    def __init__(self, input_size = 13, output_size = 4):\n",
        "        super().__init__()\n",
        "        self.feedfwd_stack = nn.Sequential(\n",
        "            nn.Linear(input_size, 128),\n",
        "            nn.ReLU(),\n",
        "            nn.Linear(128, 256),\n",
        "            nn.ReLU(),\n",
        "            nn.Linear(256,256),\n",
        "            nn.ReLU(),\n",
        "            nn.Linear(256, 128),\n",
        "            nn.ReLU(),\n",
        "            nn.Linear(128, output_size)\n",
        "        )\n",
        "    def forward(self, x):\n",
        "        logits = self.feedfwd_stack(x)\n",
        "        return logits"
      ]
    },
    {
      "cell_type": "code",
      "execution_count": 31,
      "metadata": {
        "colab": {
          "base_uri": "https://localhost:8080/"
        },
        "id": "hdPQgCaA_mKP",
        "outputId": "ba8ab677-12c7-4e05-8bbb-7c4d2559c2e3"
      },
      "outputs": [
        {
          "name": "stdout",
          "output_type": "stream",
          "text": [
            "average loss in epoch #0: 220.83023071289062\n",
            "epoch [1/50], loss:0.4032\n",
            "average loss in epoch #1: 1.4101120233535767\n"
          ]
        },
        {
          "ename": "KeyboardInterrupt",
          "evalue": "",
          "output_type": "error",
          "traceback": [
            "\u001b[0;31m---------------------------------------------------------------------------\u001b[0m",
            "\u001b[0;31mKeyboardInterrupt\u001b[0m                         Traceback (most recent call last)",
            "\u001b[1;32m/home/factslabegmc/newtonraphson_final_ws/src/newton_raphson/newton_raphson/generate_data.ipynb Cell 29\u001b[0m line \u001b[0;36m7\n\u001b[1;32m     <a href='vscode-notebook-cell:/home/factslabegmc/newtonraphson_final_ws/src/newton_raphson/newton_raphson/generate_data.ipynb#X40sZmlsZQ%3D%3D?line=70'>71</a>\u001b[0m     loss_values\u001b[39m.\u001b[39mappend(total_loss\u001b[39m/\u001b[39m\u001b[39m12995\u001b[39m\u001b[39m*\u001b[39m\u001b[39m100\u001b[39m)\n\u001b[1;32m     <a href='vscode-notebook-cell:/home/factslabegmc/newtonraphson_final_ws/src/newton_raphson/newton_raphson/generate_data.ipynb#X40sZmlsZQ%3D%3D?line=72'>73</a>\u001b[0m   test_generalization(epoch) \u001b[39m#after final training\u001b[39;00m\n\u001b[0;32m---> <a href='vscode-notebook-cell:/home/factslabegmc/newtonraphson_final_ws/src/newton_raphson/newton_raphson/generate_data.ipynb#X40sZmlsZQ%3D%3D?line=74'>75</a>\u001b[0m train_feedfwd()\n",
            "\u001b[1;32m/home/factslabegmc/newtonraphson_final_ws/src/newton_raphson/newton_raphson/generate_data.ipynb Cell 29\u001b[0m line \u001b[0;36m4\n\u001b[1;32m     <a href='vscode-notebook-cell:/home/factslabegmc/newtonraphson_final_ws/src/newton_raphson/newton_raphson/generate_data.ipynb#X40sZmlsZQ%3D%3D?line=41'>42</a>\u001b[0m \u001b[39m#train over epochs\u001b[39;00m\n\u001b[1;32m     <a href='vscode-notebook-cell:/home/factslabegmc/newtonraphson_final_ws/src/newton_raphson/newton_raphson/generate_data.ipynb#X40sZmlsZQ%3D%3D?line=42'>43</a>\u001b[0m total_loss \u001b[39m=\u001b[39m \u001b[39m0\u001b[39m\n\u001b[0;32m---> <a href='vscode-notebook-cell:/home/factslabegmc/newtonraphson_final_ws/src/newton_raphson/newton_raphson/generate_data.ipynb#X40sZmlsZQ%3D%3D?line=43'>44</a>\u001b[0m \u001b[39mfor\u001b[39;00m data \u001b[39min\u001b[39;00m train_dataloader:\n\u001b[1;32m     <a href='vscode-notebook-cell:/home/factslabegmc/newtonraphson_final_ws/src/newton_raphson/newton_raphson/generate_data.ipynb#X40sZmlsZQ%3D%3D?line=44'>45</a>\u001b[0m     input_data, output_data \u001b[39m=\u001b[39m data\n\u001b[1;32m     <a href='vscode-notebook-cell:/home/factslabegmc/newtonraphson_final_ws/src/newton_raphson/newton_raphson/generate_data.ipynb#X40sZmlsZQ%3D%3D?line=46'>47</a>\u001b[0m     output_pred \u001b[39m=\u001b[39m model_FF(input_data)\n",
            "File \u001b[0;32m~/miniconda3/envs/wardiNN/lib/python3.8/site-packages/torch/utils/data/dataloader.py:633\u001b[0m, in \u001b[0;36m_BaseDataLoaderIter.__next__\u001b[0;34m(self)\u001b[0m\n\u001b[1;32m    630\u001b[0m \u001b[39mif\u001b[39;00m \u001b[39mself\u001b[39m\u001b[39m.\u001b[39m_sampler_iter \u001b[39mis\u001b[39;00m \u001b[39mNone\u001b[39;00m:\n\u001b[1;32m    631\u001b[0m     \u001b[39m# TODO(https://github.com/pytorch/pytorch/issues/76750)\u001b[39;00m\n\u001b[1;32m    632\u001b[0m     \u001b[39mself\u001b[39m\u001b[39m.\u001b[39m_reset()  \u001b[39m# type: ignore[call-arg]\u001b[39;00m\n\u001b[0;32m--> 633\u001b[0m data \u001b[39m=\u001b[39m \u001b[39mself\u001b[39;49m\u001b[39m.\u001b[39;49m_next_data()\n\u001b[1;32m    634\u001b[0m \u001b[39mself\u001b[39m\u001b[39m.\u001b[39m_num_yielded \u001b[39m+\u001b[39m\u001b[39m=\u001b[39m \u001b[39m1\u001b[39m\n\u001b[1;32m    635\u001b[0m \u001b[39mif\u001b[39;00m \u001b[39mself\u001b[39m\u001b[39m.\u001b[39m_dataset_kind \u001b[39m==\u001b[39m _DatasetKind\u001b[39m.\u001b[39mIterable \u001b[39mand\u001b[39;00m \\\n\u001b[1;32m    636\u001b[0m         \u001b[39mself\u001b[39m\u001b[39m.\u001b[39m_IterableDataset_len_called \u001b[39mis\u001b[39;00m \u001b[39mnot\u001b[39;00m \u001b[39mNone\u001b[39;00m \u001b[39mand\u001b[39;00m \\\n\u001b[1;32m    637\u001b[0m         \u001b[39mself\u001b[39m\u001b[39m.\u001b[39m_num_yielded \u001b[39m>\u001b[39m \u001b[39mself\u001b[39m\u001b[39m.\u001b[39m_IterableDataset_len_called:\n",
            "File \u001b[0;32m~/miniconda3/envs/wardiNN/lib/python3.8/site-packages/torch/utils/data/dataloader.py:677\u001b[0m, in \u001b[0;36m_SingleProcessDataLoaderIter._next_data\u001b[0;34m(self)\u001b[0m\n\u001b[1;32m    675\u001b[0m \u001b[39mdef\u001b[39;00m \u001b[39m_next_data\u001b[39m(\u001b[39mself\u001b[39m):\n\u001b[1;32m    676\u001b[0m     index \u001b[39m=\u001b[39m \u001b[39mself\u001b[39m\u001b[39m.\u001b[39m_next_index()  \u001b[39m# may raise StopIteration\u001b[39;00m\n\u001b[0;32m--> 677\u001b[0m     data \u001b[39m=\u001b[39m \u001b[39mself\u001b[39;49m\u001b[39m.\u001b[39;49m_dataset_fetcher\u001b[39m.\u001b[39;49mfetch(index)  \u001b[39m# may raise StopIteration\u001b[39;00m\n\u001b[1;32m    678\u001b[0m     \u001b[39mif\u001b[39;00m \u001b[39mself\u001b[39m\u001b[39m.\u001b[39m_pin_memory:\n\u001b[1;32m    679\u001b[0m         data \u001b[39m=\u001b[39m _utils\u001b[39m.\u001b[39mpin_memory\u001b[39m.\u001b[39mpin_memory(data, \u001b[39mself\u001b[39m\u001b[39m.\u001b[39m_pin_memory_device)\n",
            "\u001b[0;31mKeyboardInterrupt\u001b[0m: "
          ]
        }
      ],
      "source": [
        "model_FF = FeedForward()\n",
        "\n",
        "# optimizer = torch.optim.SGD(model.parameters(), lr=learning_rate, momentum = 0.9, weight_decay=1e-5)\n",
        "optimizer = torch.optim.AdamW(model_FF.parameters(), lr=learning_rate, weight_decay=1e-4)\n",
        "\n",
        "\n",
        "criterion = nn.MSELoss()\n",
        "scheduler = torch.optim.lr_scheduler.StepLR(optimizer, step_size=30, gamma=0.1)\n",
        "FF_accuracy_array = np.zeros(num_epochs)\n",
        "\n",
        "def test_generalization(epoch):\n",
        "    #Before training and at every stage of training\n",
        "    total_loss = []\n",
        "    with torch.no_grad():\n",
        "      for data in test_dataloader:\n",
        "        input_data, output_data = data\n",
        "\n",
        "        output_pred = model_FF(input_data)\n",
        "        loss = criterion(output_pred, output_data)\n",
        "\n",
        "        total_loss.append(loss)\n",
        "\n",
        "\n",
        "    average_loss = sum(total_loss) / len(total_loss)\n",
        "    print(f\"average loss in epoch #{epoch}: {average_loss * 100}\")\n",
        "    FF_accuracy_array[epoch] = average_loss * 100\n",
        "\n",
        "\n",
        "# gradients_by_epoch = {param: [] for param in model_FF.parameters()}\n",
        "\n",
        "loss_values = []\n",
        "\n",
        "def train_feedfwd():\n",
        "  #train:\n",
        "  for epoch in range(num_epochs):\n",
        "\n",
        "    # test before training starts and at every epoch\n",
        "    test_generalization(epoch)\n",
        "\n",
        "\n",
        "\n",
        "    #train over epochs\n",
        "    total_loss = 0\n",
        "    for data in train_dataloader:\n",
        "        input_data, output_data = data\n",
        "\n",
        "        output_pred = model_FF(input_data)\n",
        "        loss = criterion(output_pred, output_data)\n",
        "\n",
        "        optimizer.zero_grad()\n",
        "        loss.backward()\n",
        "\n",
        "        # for param in model_FF.parameters():\n",
        "        #     gradients_by_epoch[param].append(param.grad.clone().detach())\n",
        "\n",
        "        optimizer.step()\n",
        "\n",
        "        # for param in model_FF.parameters():\n",
        "        #     param.grad = None\n",
        "\n",
        "\n",
        "\n",
        "#       optimizer.step()\n",
        "\n",
        "\n",
        "\n",
        "        total_loss += loss.data\n",
        "    scheduler.step()\n",
        "    print('epoch [{}/{}], loss:{:.4f}'\n",
        "          .format(epoch+1, num_epochs, total_loss/12995*100))\n",
        "    loss_values.append(total_loss/12995*100)\n",
        "\n",
        "  test_generalization(epoch) #after final training\n",
        "\n",
        "train_feedfwd()"
      ]
    },
    {
      "cell_type": "code",
      "execution_count": 22,
      "metadata": {
        "colab": {
          "base_uri": "https://localhost:8080/",
          "height": 472
        },
        "id": "34sKC-GyWCBn",
        "outputId": "72ef2447-de53-4cd9-f015-7212ead40c12"
      },
      "outputs": [
        {
          "data": {
            "image/png": "[encoded data removed]",
            "text/plain": [
              "<Figure size 640x480 with 1 Axes>"
            ]
          },
          "metadata": {},
          "output_type": "display_data"
        }
      ],
      "source": [
        "# Plot avg error over epochs\n",
        "x = np.arange(1,num_epochs+1 , dtype = int)\n",
        "fig, ax = plt.subplots()\n",
        "plt.plot(x, FF_accuracy_array.T)\n",
        "ax.set_xlabel('Epoch')\n",
        "ax.set_ylabel('Accuracy %')\n",
        "ax.set_title('FF Test Loss Over Time')\n",
        "plt.show()"
      ]
    },
    {
      "cell_type": "code",
      "execution_count": null,
      "metadata": {
        "id": "G0ApMOCcWul_"
      },
      "outputs": [],
      "source": [
        "# PATH = \"FF_model50k.pt\"\n",
        "# torch.save(model_FF.state_dict(), PATH)"
      ]
    },
    {
      "cell_type": "markdown",
      "metadata": {},
      "source": [
        "# DEQ"
      ]
    },
    {
      "cell_type": "code",
      "execution_count": 166,
      "metadata": {},
      "outputs": [],
      "source": [
        "import argparse\n",
        "\n",
        "import torch\n",
        "import torch.nn.functional as F\n",
        "from torchdeq import get_deq, apply_norm, reset_norm\n",
        "from torchdeq.utils import add_deq_args\n",
        "\n",
        "\n",
        "# from tqdm import tqdm\n",
        "from torchdeq.loss import fp_correction"
      ]
    },
    {
      "cell_type": "code",
      "execution_count": 167,
      "metadata": {},
      "outputs": [],
      "source": [
        "class DEQSirenINR(nn.Module):\n",
        "    def __init__(self, input_size = 13, output_size = 4, hidden_size=256):\n",
        "        super().__init__()\n",
        "        self.feedfwd_stack = nn.Sequential(\n",
        "            nn.ReLU(),\n",
        "            nn.Linear(hidden_size, output_size)\n",
        "        )\n",
        "\n",
        "        self.input_size = input_size\n",
        "        self.output_size = output_size\n",
        "        self.hidden_size = hidden_size\n",
        "\n",
        "        self.deq = get_deq(f_solver='broyden', f_max_iter=20, f_tol=1e-6)\n",
        "        \n",
        "    def injection(self, x):\n",
        "        U = nn.Linear(self.input_size, self.hidden_size)\n",
        "        xbar = U(x)\n",
        "        return xbar\n",
        "    \n",
        "    def filter(self, z, xbar):\n",
        "        W = nn.Linear(self.hidden_size, self.hidden_size)\n",
        "        z = W(z)\n",
        "\n",
        "        relu = nn.ReLU()\n",
        "        out = relu(z + xbar)\n",
        "        \n",
        "        return out\n",
        "    \n",
        "    def forward(self, x, z=None, xbar=None):\n",
        "        if xbar is None:\n",
        "            xbar = self.injection(x)\n",
        "        if z is None:\n",
        "            z = torch.zeros_like(xbar)\n",
        "\n",
        "        # print(f\"x.shape: {x.shape}\")\n",
        "        # print(f\"xbar.shape: {xbar.shape}\")\n",
        "        # print(f\"z0.shape=  {z.shape}\")\n",
        "        # z = self.filter(z, xbar)\n",
        "        # print(f\"z.shape=  {z.shape}\")\n",
        "\n",
        "        f = lambda z: self.filter(z, xbar)\n",
        "        z_out, info = self.deq(f,z)\n",
        "        z = z_out[0]\n",
        "        # print(z)\n",
        "\n",
        "        out = self.feedfwd_stack(z)\n",
        "\n",
        "        return out\n",
        "\n",
        "        "
      ]
    },
    {
      "cell_type": "code",
      "execution_count": 168,
      "metadata": {},
      "outputs": [],
      "source": [
        "model_DEQ = DEQSirenINR()\n",
        "optimizer = torch.optim.AdamW(model_DEQ.parameters(), lr=learning_rate, weight_decay=1e-4)\n",
        "\n",
        "\n",
        "criterion = nn.MSELoss()\n",
        "scheduler = torch.optim.lr_scheduler.StepLR(optimizer, step_size=30, gamma=0.1)\n",
        "DEQ_accuracy_array = np.zeros(num_epochs)"
      ]
    },
    {
      "cell_type": "code",
      "execution_count": 163,
      "metadata": {},
      "outputs": [],
      "source": [
        "for data in train_dataloader:\n",
        "    input_data, output_data = data\n",
        "    output_pred = model_DEQ(input_data)\n",
        "    break"
      ]
    },
    {
      "cell_type": "code",
      "execution_count": 158,
      "metadata": {},
      "outputs": [
        {
          "ename": "KeyboardInterrupt",
          "evalue": "",
          "output_type": "error",
          "traceback": [
            "\u001b[0;31m---------------------------------------------------------------------------\u001b[0m",
            "\u001b[0;31mKeyboardInterrupt\u001b[0m                         Traceback (most recent call last)",
            "\u001b[1;32m/home/factslabegmc/newtonraphson_final_ws/src/newton_raphson/newton_raphson/generate_data.ipynb Cell 37\u001b[0m line \u001b[0;36m5\n\u001b[1;32m      <a href='vscode-notebook-cell:/home/factslabegmc/newtonraphson_final_ws/src/newton_raphson/newton_raphson/generate_data.ipynb#Y115sZmlsZQ%3D%3D?line=1'>2</a>\u001b[0m \u001b[39mfor\u001b[39;00m data \u001b[39min\u001b[39;00m train_dataloader:\n\u001b[1;32m      <a href='vscode-notebook-cell:/home/factslabegmc/newtonraphson_final_ws/src/newton_raphson/newton_raphson/generate_data.ipynb#Y115sZmlsZQ%3D%3D?line=2'>3</a>\u001b[0m     input_data, output_data \u001b[39m=\u001b[39m data\n\u001b[0;32m----> <a href='vscode-notebook-cell:/home/factslabegmc/newtonraphson_final_ws/src/newton_raphson/newton_raphson/generate_data.ipynb#Y115sZmlsZQ%3D%3D?line=4'>5</a>\u001b[0m     output_pred \u001b[39m=\u001b[39m model_DEQ(input_data)\n\u001b[1;32m      <a href='vscode-notebook-cell:/home/factslabegmc/newtonraphson_final_ws/src/newton_raphson/newton_raphson/generate_data.ipynb#Y115sZmlsZQ%3D%3D?line=5'>6</a>\u001b[0m     loss \u001b[39m=\u001b[39m criterion(output_pred, output_data)\n\u001b[1;32m      <a href='vscode-notebook-cell:/home/factslabegmc/newtonraphson_final_ws/src/newton_raphson/newton_raphson/generate_data.ipynb#Y115sZmlsZQ%3D%3D?line=7'>8</a>\u001b[0m     optimizer\u001b[39m.\u001b[39mzero_grad()\n",
            "File \u001b[0;32m~/miniconda3/envs/wardiNN/lib/python3.8/site-packages/torch/nn/modules/module.py:1501\u001b[0m, in \u001b[0;36mModule._call_impl\u001b[0;34m(self, *args, **kwargs)\u001b[0m\n\u001b[1;32m   1496\u001b[0m \u001b[39m# If we don't have any hooks, we want to skip the rest of the logic in\u001b[39;00m\n\u001b[1;32m   1497\u001b[0m \u001b[39m# this function, and just call forward.\u001b[39;00m\n\u001b[1;32m   1498\u001b[0m \u001b[39mif\u001b[39;00m \u001b[39mnot\u001b[39;00m (\u001b[39mself\u001b[39m\u001b[39m.\u001b[39m_backward_hooks \u001b[39mor\u001b[39;00m \u001b[39mself\u001b[39m\u001b[39m.\u001b[39m_backward_pre_hooks \u001b[39mor\u001b[39;00m \u001b[39mself\u001b[39m\u001b[39m.\u001b[39m_forward_hooks \u001b[39mor\u001b[39;00m \u001b[39mself\u001b[39m\u001b[39m.\u001b[39m_forward_pre_hooks\n\u001b[1;32m   1499\u001b[0m         \u001b[39mor\u001b[39;00m _global_backward_pre_hooks \u001b[39mor\u001b[39;00m _global_backward_hooks\n\u001b[1;32m   1500\u001b[0m         \u001b[39mor\u001b[39;00m _global_forward_hooks \u001b[39mor\u001b[39;00m _global_forward_pre_hooks):\n\u001b[0;32m-> 1501\u001b[0m     \u001b[39mreturn\u001b[39;00m forward_call(\u001b[39m*\u001b[39;49margs, \u001b[39m*\u001b[39;49m\u001b[39m*\u001b[39;49mkwargs)\n\u001b[1;32m   1502\u001b[0m \u001b[39m# Do not call functions when jit is used\u001b[39;00m\n\u001b[1;32m   1503\u001b[0m full_backward_hooks, non_full_backward_hooks \u001b[39m=\u001b[39m [], []\n",
            "\u001b[1;32m/home/factslabegmc/newtonraphson_final_ws/src/newton_raphson/newton_raphson/generate_data.ipynb Cell 37\u001b[0m line \u001b[0;36m4\n\u001b[1;32m     <a href='vscode-notebook-cell:/home/factslabegmc/newtonraphson_final_ws/src/newton_raphson/newton_raphson/generate_data.ipynb#Y115sZmlsZQ%3D%3D?line=34'>35</a>\u001b[0m \u001b[39m# print(f\"x.shape: {x.shape}\")\u001b[39;00m\n\u001b[1;32m     <a href='vscode-notebook-cell:/home/factslabegmc/newtonraphson_final_ws/src/newton_raphson/newton_raphson/generate_data.ipynb#Y115sZmlsZQ%3D%3D?line=35'>36</a>\u001b[0m \u001b[39m# print(f\"xbar.shape: {xbar.shape}\")\u001b[39;00m\n\u001b[1;32m     <a href='vscode-notebook-cell:/home/factslabegmc/newtonraphson_final_ws/src/newton_raphson/newton_raphson/generate_data.ipynb#Y115sZmlsZQ%3D%3D?line=36'>37</a>\u001b[0m \u001b[39m# print(f\"z0.shape=  {z.shape}\")\u001b[39;00m\n\u001b[1;32m     <a href='vscode-notebook-cell:/home/factslabegmc/newtonraphson_final_ws/src/newton_raphson/newton_raphson/generate_data.ipynb#Y115sZmlsZQ%3D%3D?line=37'>38</a>\u001b[0m \u001b[39m# z = self.filter(z, xbar)\u001b[39;00m\n\u001b[1;32m     <a href='vscode-notebook-cell:/home/factslabegmc/newtonraphson_final_ws/src/newton_raphson/newton_raphson/generate_data.ipynb#Y115sZmlsZQ%3D%3D?line=38'>39</a>\u001b[0m \u001b[39m# print(f\"z.shape=  {z.shape}\")\u001b[39;00m\n\u001b[1;32m     <a href='vscode-notebook-cell:/home/factslabegmc/newtonraphson_final_ws/src/newton_raphson/newton_raphson/generate_data.ipynb#Y115sZmlsZQ%3D%3D?line=40'>41</a>\u001b[0m f \u001b[39m=\u001b[39m \u001b[39mlambda\u001b[39;00m z: \u001b[39mself\u001b[39m\u001b[39m.\u001b[39mfilter(z, xbar)\n\u001b[0;32m---> <a href='vscode-notebook-cell:/home/factslabegmc/newtonraphson_final_ws/src/newton_raphson/newton_raphson/generate_data.ipynb#Y115sZmlsZQ%3D%3D?line=41'>42</a>\u001b[0m z_out, info \u001b[39m=\u001b[39m \u001b[39mself\u001b[39;49m\u001b[39m.\u001b[39;49mdeq(f,z)\n\u001b[1;32m     <a href='vscode-notebook-cell:/home/factslabegmc/newtonraphson_final_ws/src/newton_raphson/newton_raphson/generate_data.ipynb#Y115sZmlsZQ%3D%3D?line=42'>43</a>\u001b[0m z \u001b[39m=\u001b[39m z_out[\u001b[39m0\u001b[39m]\n\u001b[1;32m     <a href='vscode-notebook-cell:/home/factslabegmc/newtonraphson_final_ws/src/newton_raphson/newton_raphson/generate_data.ipynb#Y115sZmlsZQ%3D%3D?line=43'>44</a>\u001b[0m \u001b[39m# print(z)\u001b[39;00m\n",
            "File \u001b[0;32m~/miniconda3/envs/wardiNN/lib/python3.8/site-packages/torch/nn/modules/module.py:1501\u001b[0m, in \u001b[0;36mModule._call_impl\u001b[0;34m(self, *args, **kwargs)\u001b[0m\n\u001b[1;32m   1496\u001b[0m \u001b[39m# If we don't have any hooks, we want to skip the rest of the logic in\u001b[39;00m\n\u001b[1;32m   1497\u001b[0m \u001b[39m# this function, and just call forward.\u001b[39;00m\n\u001b[1;32m   1498\u001b[0m \u001b[39mif\u001b[39;00m \u001b[39mnot\u001b[39;00m (\u001b[39mself\u001b[39m\u001b[39m.\u001b[39m_backward_hooks \u001b[39mor\u001b[39;00m \u001b[39mself\u001b[39m\u001b[39m.\u001b[39m_backward_pre_hooks \u001b[39mor\u001b[39;00m \u001b[39mself\u001b[39m\u001b[39m.\u001b[39m_forward_hooks \u001b[39mor\u001b[39;00m \u001b[39mself\u001b[39m\u001b[39m.\u001b[39m_forward_pre_hooks\n\u001b[1;32m   1499\u001b[0m         \u001b[39mor\u001b[39;00m _global_backward_pre_hooks \u001b[39mor\u001b[39;00m _global_backward_hooks\n\u001b[1;32m   1500\u001b[0m         \u001b[39mor\u001b[39;00m _global_forward_hooks \u001b[39mor\u001b[39;00m _global_forward_pre_hooks):\n\u001b[0;32m-> 1501\u001b[0m     \u001b[39mreturn\u001b[39;00m forward_call(\u001b[39m*\u001b[39;49margs, \u001b[39m*\u001b[39;49m\u001b[39m*\u001b[39;49mkwargs)\n\u001b[1;32m   1502\u001b[0m \u001b[39m# Do not call functions when jit is used\u001b[39;00m\n\u001b[1;32m   1503\u001b[0m full_backward_hooks, non_full_backward_hooks \u001b[39m=\u001b[39m [], []\n",
            "File \u001b[0;32m~/miniconda3/envs/wardiNN/lib/python3.8/site-packages/torchdeq/core.py:605\u001b[0m, in \u001b[0;36mDEQSliced.forward\u001b[0;34m(self, func, z_star, solver_kwargs, sradius_mode, backward_writer, **kwargs)\u001b[0m\n\u001b[1;32m    603\u001b[0m z_out \u001b[39m=\u001b[39m []\n\u001b[1;32m    604\u001b[0m \u001b[39mfor\u001b[39;00m f_max_iter, produce_grad \u001b[39min\u001b[39;00m \u001b[39mzip\u001b[39m(indexing, \u001b[39mself\u001b[39m\u001b[39m.\u001b[39mproduce_grad):\n\u001b[0;32m--> 605\u001b[0m     z_star, info \u001b[39m=\u001b[39m \u001b[39mself\u001b[39;49m\u001b[39m.\u001b[39;49m_solve_fixed_point(deq_func, z_star, f_max_iter\u001b[39m=\u001b[39;49mf_max_iter, solver_kwargs\u001b[39m=\u001b[39;49msolver_kwargs)\n\u001b[1;32m    606\u001b[0m     z_star \u001b[39m=\u001b[39m deq_func\u001b[39m.\u001b[39mdetach(z_star)\n\u001b[1;32m    607\u001b[0m     z_out \u001b[39m+\u001b[39m\u001b[39m=\u001b[39m produce_grad(\u001b[39mself\u001b[39m, deq_func, z_star, writer\u001b[39m=\u001b[39mbackward_writer)   \u001b[39m# See torchdeq.grad for implementations\u001b[39;00m\n",
            "File \u001b[0;32m~/miniconda3/envs/wardiNN/lib/python3.8/site-packages/torchdeq/core.py:553\u001b[0m, in \u001b[0;36mDEQSliced._solve_fixed_point\u001b[0;34m(self, deq_func, z_init, f_max_iter, solver_kwargs, **kwargs)\u001b[0m\n\u001b[1;32m    550\u001b[0m solver_kwargs \u001b[39m=\u001b[39m {k:v \u001b[39mfor\u001b[39;00m k, v \u001b[39min\u001b[39;00m solver_kwargs\u001b[39m.\u001b[39mitems() \u001b[39mif\u001b[39;00m k \u001b[39m!=\u001b[39m \u001b[39m'\u001b[39m\u001b[39mf_max_iter\u001b[39m\u001b[39m'\u001b[39m}\n\u001b[1;32m    552\u001b[0m \u001b[39mwith\u001b[39;00m torch\u001b[39m.\u001b[39mno_grad():\n\u001b[0;32m--> 553\u001b[0m     z_star, _, info \u001b[39m=\u001b[39m \u001b[39mself\u001b[39;49m\u001b[39m.\u001b[39;49mf_solver(\n\u001b[1;32m    554\u001b[0m             deq_func, x0\u001b[39m=\u001b[39;49mz_init, max_iter\u001b[39m=\u001b[39;49mf_max_iter,             \u001b[39m# To reuse the previous fixed point\u001b[39;49;00m\n\u001b[1;32m    555\u001b[0m             tol\u001b[39m=\u001b[39;49m\u001b[39mself\u001b[39;49m\u001b[39m.\u001b[39;49mf_tol, stop_mode\u001b[39m=\u001b[39;49m\u001b[39mself\u001b[39;49m\u001b[39m.\u001b[39;49mf_stop_mode,\n\u001b[1;32m    556\u001b[0m             \u001b[39m*\u001b[39;49m\u001b[39m*\u001b[39;49msolver_kwargs\n\u001b[1;32m    557\u001b[0m             )         \n\u001b[1;32m    559\u001b[0m \u001b[39mreturn\u001b[39;00m z_star, info\n",
            "File \u001b[0;32m~/miniconda3/envs/wardiNN/lib/python3.8/site-packages/torchdeq/solver/broyden.py:220\u001b[0m, in \u001b[0;36mbroyden_solver\u001b[0;34m(func, x0, max_iter, tol, stop_mode, indexing, LBFGS_thres, ls, return_final, **kwargs)\u001b[0m\n\u001b[1;32m    218\u001b[0m vT[vT \u001b[39m!=\u001b[39m vT] \u001b[39m=\u001b[39m \u001b[39m0\u001b[39m\n\u001b[1;32m    219\u001b[0m u[u \u001b[39m!=\u001b[39m u] \u001b[39m=\u001b[39m \u001b[39m0\u001b[39m\n\u001b[0;32m--> 220\u001b[0m VTs[:,(nstep\u001b[39m-\u001b[39m\u001b[39m1\u001b[39m) \u001b[39m%\u001b[39m LBFGS_thres] \u001b[39m=\u001b[39m vT\n\u001b[1;32m    221\u001b[0m Us[:,:,(nstep\u001b[39m-\u001b[39m\u001b[39m1\u001b[39m) \u001b[39m%\u001b[39m LBFGS_thres] \u001b[39m=\u001b[39m u\n\u001b[1;32m    222\u001b[0m update \u001b[39m=\u001b[39m \u001b[39m-\u001b[39mmatvec(Us[:,:,:nstep], VTs[:,:nstep], gx)\n",
            "\u001b[0;31mKeyboardInterrupt\u001b[0m: "
          ]
        }
      ],
      "source": [
        "total_loss = 0\n",
        "for data in train_dataloader:\n",
        "    input_data, output_data = data\n",
        "\n",
        "    output_pred = model_DEQ(input_data)\n",
        "    loss = criterion(output_pred, output_data)\n",
        "\n",
        "    optimizer.zero_grad()\n",
        "    loss.backward()\n",
        "\n",
        "    # for param in model_FF.parameters():\n",
        "    #     gradients_by_epoch[param].append(param.grad.clone().detach())\n",
        "\n",
        "    optimizer.step()"
      ]
    },
    {
      "cell_type": "code",
      "execution_count": 173,
      "metadata": {},
      "outputs": [
        {
          "ename": "RuntimeError",
          "evalue": "The size of tensor a (16) must match the size of tensor b (128) at non-singleton dimension 0",
          "output_type": "error",
          "traceback": [
            "\u001b[0;31m---------------------------------------------------------------------------\u001b[0m",
            "\u001b[0;31mRuntimeError\u001b[0m                              Traceback (most recent call last)",
            "\u001b[1;32m/home/factslabegmc/newtonraphson_final_ws/src/newton_raphson/newton_raphson/generate_data.ipynb Cell 38\u001b[0m line \u001b[0;36m8\n\u001b[1;32m     <a href='vscode-notebook-cell:/home/factslabegmc/newtonraphson_final_ws/src/newton_raphson/newton_raphson/generate_data.ipynb#Y113sZmlsZQ%3D%3D?line=79'>80</a>\u001b[0m     loss_values\u001b[39m.\u001b[39mappend(total_loss\u001b[39m/\u001b[39m\u001b[39m12995\u001b[39m\u001b[39m*\u001b[39m\u001b[39m100\u001b[39m)\n\u001b[1;32m     <a href='vscode-notebook-cell:/home/factslabegmc/newtonraphson_final_ws/src/newton_raphson/newton_raphson/generate_data.ipynb#Y113sZmlsZQ%3D%3D?line=81'>82</a>\u001b[0m   test_generalization(epoch) \u001b[39m#after final training\u001b[39;00m\n\u001b[0;32m---> <a href='vscode-notebook-cell:/home/factslabegmc/newtonraphson_final_ws/src/newton_raphson/newton_raphson/generate_data.ipynb#Y113sZmlsZQ%3D%3D?line=83'>84</a>\u001b[0m train_feedfwd()\n",
            "\u001b[1;32m/home/factslabegmc/newtonraphson_final_ws/src/newton_raphson/newton_raphson/generate_data.ipynb Cell 38\u001b[0m line \u001b[0;36m3\n\u001b[1;32m     <a href='vscode-notebook-cell:/home/factslabegmc/newtonraphson_final_ws/src/newton_raphson/newton_raphson/generate_data.ipynb#Y113sZmlsZQ%3D%3D?line=31'>32</a>\u001b[0m \u001b[39mdef\u001b[39;00m \u001b[39mtrain_feedfwd\u001b[39m():\n\u001b[1;32m     <a href='vscode-notebook-cell:/home/factslabegmc/newtonraphson_final_ws/src/newton_raphson/newton_raphson/generate_data.ipynb#Y113sZmlsZQ%3D%3D?line=32'>33</a>\u001b[0m   \u001b[39m#train:\u001b[39;00m\n\u001b[1;32m     <a href='vscode-notebook-cell:/home/factslabegmc/newtonraphson_final_ws/src/newton_raphson/newton_raphson/generate_data.ipynb#Y113sZmlsZQ%3D%3D?line=33'>34</a>\u001b[0m   \u001b[39mfor\u001b[39;00m epoch \u001b[39min\u001b[39;00m \u001b[39mrange\u001b[39m(num_epochs):\n\u001b[1;32m     <a href='vscode-notebook-cell:/home/factslabegmc/newtonraphson_final_ws/src/newton_raphson/newton_raphson/generate_data.ipynb#Y113sZmlsZQ%3D%3D?line=34'>35</a>\u001b[0m \n\u001b[1;32m     <a href='vscode-notebook-cell:/home/factslabegmc/newtonraphson_final_ws/src/newton_raphson/newton_raphson/generate_data.ipynb#Y113sZmlsZQ%3D%3D?line=35'>36</a>\u001b[0m     \u001b[39m# test before training starts and at every epoch\u001b[39;00m\n\u001b[0;32m---> <a href='vscode-notebook-cell:/home/factslabegmc/newtonraphson_final_ws/src/newton_raphson/newton_raphson/generate_data.ipynb#Y113sZmlsZQ%3D%3D?line=36'>37</a>\u001b[0m     test_generalization(epoch)\n\u001b[1;32m     <a href='vscode-notebook-cell:/home/factslabegmc/newtonraphson_final_ws/src/newton_raphson/newton_raphson/generate_data.ipynb#Y113sZmlsZQ%3D%3D?line=40'>41</a>\u001b[0m     \u001b[39m#train over epochs\u001b[39;00m\n\u001b[1;32m     <a href='vscode-notebook-cell:/home/factslabegmc/newtonraphson_final_ws/src/newton_raphson/newton_raphson/generate_data.ipynb#Y113sZmlsZQ%3D%3D?line=41'>42</a>\u001b[0m     total_loss \u001b[39m=\u001b[39m \u001b[39m0\u001b[39m\n",
            "\u001b[1;32m/home/factslabegmc/newtonraphson_final_ws/src/newton_raphson/newton_raphson/generate_data.ipynb Cell 38\u001b[0m line \u001b[0;36m1\n\u001b[1;32m     <a href='vscode-notebook-cell:/home/factslabegmc/newtonraphson_final_ws/src/newton_raphson/newton_raphson/generate_data.ipynb#Y113sZmlsZQ%3D%3D?line=15'>16</a>\u001b[0m     input_data, output_data \u001b[39m=\u001b[39m data\n\u001b[1;32m     <a href='vscode-notebook-cell:/home/factslabegmc/newtonraphson_final_ws/src/newton_raphson/newton_raphson/generate_data.ipynb#Y113sZmlsZQ%3D%3D?line=16'>17</a>\u001b[0m     loss_fn \u001b[39m=\u001b[39m \u001b[39mlambda\u001b[39;00m y_gt, y: ((y_gt \u001b[39m-\u001b[39m y) \u001b[39m*\u001b[39m\u001b[39m*\u001b[39m \u001b[39m2\u001b[39m)\u001b[39m.\u001b[39mmean()\n\u001b[0;32m---> <a href='vscode-notebook-cell:/home/factslabegmc/newtonraphson_final_ws/src/newton_raphson/newton_raphson/generate_data.ipynb#Y113sZmlsZQ%3D%3D?line=17'>18</a>\u001b[0m     train_loss \u001b[39m=\u001b[39m fp_correction(loss_fn, (output_data, output_pred))\n\u001b[1;32m     <a href='vscode-notebook-cell:/home/factslabegmc/newtonraphson_final_ws/src/newton_raphson/newton_raphson/generate_data.ipynb#Y113sZmlsZQ%3D%3D?line=19'>20</a>\u001b[0m     total_loss\u001b[39m.\u001b[39mappend(train_loss)\n\u001b[1;32m     <a href='vscode-notebook-cell:/home/factslabegmc/newtonraphson_final_ws/src/newton_raphson/newton_raphson/generate_data.ipynb#Y113sZmlsZQ%3D%3D?line=22'>23</a>\u001b[0m average_loss \u001b[39m=\u001b[39m \u001b[39msum\u001b[39m(total_loss) \u001b[39m/\u001b[39m \u001b[39mlen\u001b[39m(total_loss)\n",
            "File \u001b[0;32m~/miniconda3/envs/wardiNN/lib/python3.8/site-packages/torchdeq/loss/correction.py:106\u001b[0m, in \u001b[0;36mfp_correction\u001b[0;34m(crit, args, weight_func, return_loss_values, **kwargs)\u001b[0m\n\u001b[1;32m    104\u001b[0m \u001b[39mfor\u001b[39;00m i \u001b[39min\u001b[39;00m \u001b[39mrange\u001b[39m(max_len):\n\u001b[1;32m    105\u001b[0m     i_weight \u001b[39m=\u001b[39m weight_func(max_len, i, \u001b[39m*\u001b[39m\u001b[39m*\u001b[39mkwargs)\n\u001b[0;32m--> 106\u001b[0m     i_loss \u001b[39m=\u001b[39m crit(\u001b[39m*\u001b[39;49m_get_idx(args, i))\n\u001b[1;32m    107\u001b[0m     loss \u001b[39m+\u001b[39m\u001b[39m=\u001b[39m i_weight \u001b[39m*\u001b[39m i_loss\n\u001b[1;32m    109\u001b[0m     \u001b[39mif\u001b[39;00m return_loss_values:\n",
            "\u001b[1;32m/home/factslabegmc/newtonraphson_final_ws/src/newton_raphson/newton_raphson/generate_data.ipynb Cell 38\u001b[0m line \u001b[0;36m1\n\u001b[1;32m     <a href='vscode-notebook-cell:/home/factslabegmc/newtonraphson_final_ws/src/newton_raphson/newton_raphson/generate_data.ipynb#Y113sZmlsZQ%3D%3D?line=14'>15</a>\u001b[0m \u001b[39mfor\u001b[39;00m data \u001b[39min\u001b[39;00m test_dataloader:\n\u001b[1;32m     <a href='vscode-notebook-cell:/home/factslabegmc/newtonraphson_final_ws/src/newton_raphson/newton_raphson/generate_data.ipynb#Y113sZmlsZQ%3D%3D?line=15'>16</a>\u001b[0m   input_data, output_data \u001b[39m=\u001b[39m data\n\u001b[0;32m---> <a href='vscode-notebook-cell:/home/factslabegmc/newtonraphson_final_ws/src/newton_raphson/newton_raphson/generate_data.ipynb#Y113sZmlsZQ%3D%3D?line=16'>17</a>\u001b[0m   loss_fn \u001b[39m=\u001b[39m \u001b[39mlambda\u001b[39;00m y_gt, y: ((y_gt \u001b[39m-\u001b[39;49m y) \u001b[39m*\u001b[39m\u001b[39m*\u001b[39m \u001b[39m2\u001b[39m)\u001b[39m.\u001b[39mmean()\n\u001b[1;32m     <a href='vscode-notebook-cell:/home/factslabegmc/newtonraphson_final_ws/src/newton_raphson/newton_raphson/generate_data.ipynb#Y113sZmlsZQ%3D%3D?line=17'>18</a>\u001b[0m   train_loss \u001b[39m=\u001b[39m fp_correction(loss_fn, (output_data, output_pred))\n\u001b[1;32m     <a href='vscode-notebook-cell:/home/factslabegmc/newtonraphson_final_ws/src/newton_raphson/newton_raphson/generate_data.ipynb#Y113sZmlsZQ%3D%3D?line=19'>20</a>\u001b[0m   total_loss\u001b[39m.\u001b[39mappend(train_loss)\n",
            "\u001b[0;31mRuntimeError\u001b[0m: The size of tensor a (16) must match the size of tensor b (128) at non-singleton dimension 0"
          ]
        }
      ],
      "source": [
        "model_FF = DEQSirenINR()\n",
        "\n",
        "# optimizer = torch.optim.SGD(model.parameters(), lr=learning_rate, momentum = 0.9, weight_decay=1e-5)\n",
        "optimizer = torch.optim.AdamW(model_FF.parameters(), lr=learning_rate, weight_decay=1e-4)\n",
        "\n",
        "\n",
        "criterion = nn.MSELoss()\n",
        "scheduler = torch.optim.lr_scheduler.StepLR(optimizer, step_size=30, gamma=0.1)\n",
        "FF_accuracy_array = np.zeros(num_epochs)\n",
        "\n",
        "def test_generalization(epoch):\n",
        "    #Before training and at every stage of training\n",
        "    total_loss = []\n",
        "    with torch.no_grad():\n",
        "      for data in test_dataloader:\n",
        "        input_data, output_data = data\n",
        "        loss_fn = lambda y_gt, y: ((y_gt - y) ** 2).mean()\n",
        "        train_loss = fp_correction(loss_fn, (output_data, output_pred))\n",
        "\n",
        "        total_loss.append(train_loss)\n",
        "\n",
        "\n",
        "    average_loss = sum(total_loss) / len(total_loss)\n",
        "    print(f\"average loss in epoch #{epoch}: {average_loss * 100}\")\n",
        "    FF_accuracy_array[epoch] = average_loss * 100\n",
        "\n",
        "\n",
        "# gradients_by_epoch = {param: [] for param in model_FF.parameters()}\n",
        "\n",
        "loss_values = []\n",
        "\n",
        "def train_feedfwd():\n",
        "  #train:\n",
        "  for epoch in range(num_epochs):\n",
        "\n",
        "    # test before training starts and at every epoch\n",
        "    test_generalization(epoch)\n",
        "\n",
        "\n",
        "\n",
        "    #train over epochs\n",
        "    total_loss = 0\n",
        "    for data in train_dataloader:\n",
        "        print(\"HEEERYERJWELFSDKLFJSLK\")\n",
        "        input_data, output_data = data\n",
        "\n",
        "        output_pred = model_FF(input_data)\n",
        "        print(f\"o_data shape: {output_data.shape}\")\n",
        "        print(f\"pred shape: {output_pred.shape}\")\n",
        "        loss_fn = lambda y_gt, y: ((y_gt - y) ** 2).mean()\n",
        "\n",
        "\n",
        "        train_loss = fp_correction(loss_fn, (output_data, output_pred))\n",
        "\n",
        "        optimizer.zero_grad()\n",
        "        train_loss.backward()\n",
        "        optimizer.step()\n",
        "        scheduler.step()\n",
        "\n",
        "\n",
        "\n",
        "\n",
        "        # for param in model_FF.parameters():\n",
        "        #     gradients_by_epoch[param].append(param.grad.clone().detach())\n",
        "\n",
        "\n",
        "        # for param in model_FF.parameters():\n",
        "        #     param.grad = None\n",
        "\n",
        "\n",
        "\n",
        "#       optimizer.step()\n",
        "\n",
        "\n",
        "\n",
        "        total_loss += loss.data\n",
        "    scheduler.step()\n",
        "    print('epoch [{}/{}], loss:{:.4f}'\n",
        "          .format(epoch+1, num_epochs, total_loss/12995*100))\n",
        "    loss_values.append(total_loss/12995*100)\n",
        "\n",
        "  test_generalization(epoch) #after final training\n",
        "\n",
        "train_feedfwd()"
      ]
    },
    {
      "cell_type": "markdown",
      "metadata": {},
      "source": [
        "# LSTM"
      ]
    },
    {
      "cell_type": "code",
      "execution_count": 36,
      "metadata": {},
      "outputs": [],
      "source": [
        "class LSTMModel(nn.Module):\n",
        "    def __init__(self, input_size=13, hidden_size=64, num_layers=5, output_size=4):\n",
        "        super().__init__()\n",
        "        self.lstm = nn.LSTM(input_size, hidden_size, num_layers, batch_first=True)\n",
        "        self.fc = nn.Linear(hidden_size, output_size)\n",
        "\n",
        "    def forward(self, x):\n",
        "        out, _ = self.lstm(x)\n",
        "        return self.fc(out)"
      ]
    },
    {
      "cell_type": "code",
      "execution_count": 37,
      "metadata": {},
      "outputs": [],
      "source": [
        "# model = FeedForward()\n",
        "modelLSTM = LSTMModel()\n",
        "\n",
        "# optimizer = torch.optim.SGD(modelLSTM.parameters(), lr=learning_rate, momentum = 0.9, weight_decay=1e-5)\n",
        "optimizer = torch.optim.AdamW(modelLSTM.parameters(), lr=learning_rate, weight_decay=1e-4)\n",
        "\n",
        "\n",
        "criterion = nn.MSELoss()\n",
        "scheduler = torch.optim.lr_scheduler.StepLR(optimizer, step_size=30, gamma=0.1)\n",
        "LSTM_accuracy_array = np.zeros(num_epochs)"
      ]
    },
    {
      "cell_type": "code",
      "execution_count": 38,
      "metadata": {},
      "outputs": [],
      "source": [
        "def test_generalization(epoch):\n",
        "    #Before training and at every stage of training\n",
        "    total_loss = []\n",
        "    with torch.no_grad():\n",
        "      for data in test_dataloader:\n",
        "        input_data, output_data = data\n",
        "\n",
        "        output_pred = modelLSTM(input_data)\n",
        "        loss = criterion(output_pred, output_data)\n",
        "\n",
        "        total_loss.append(loss)\n",
        "\n",
        "\n",
        "    average_loss = sum(total_loss) / len(total_loss)\n",
        "    print(f\"average loss in epoch #{epoch}: {average_loss * 100}\")\n",
        "    LSTM_accuracy_array[epoch] = average_loss * 100\n",
        "\n",
        "\n",
        "loss_values = []\n",
        "\n",
        "def train_LSTM():\n",
        "  #train:\n",
        "  for epoch in range(num_epochs):\n",
        "\n",
        "    # test before training starts and at every epoch\n",
        "    test_generalization(epoch)\n",
        "\n",
        "\n",
        "\n",
        "    #train over epochs\n",
        "    total_loss = 0\n",
        "    for data in train_dataloader:\n",
        "        input_data, output_data = data\n",
        "\n",
        "        output_pred = modelLSTM(input_data)\n",
        "        loss = criterion(output_pred, output_data)\n",
        "\n",
        "        optimizer.zero_grad()\n",
        "        loss.backward()\n",
        "\n",
        "        # for param in modelLSTM.parameters():\n",
        "        #     gradients_by_epoch[param].append(param.grad.clone().detach())\n",
        "\n",
        "        optimizer.step()\n",
        "\n",
        "        # for param in modelLSTM.parameters():\n",
        "        #     param.grad = None\n",
        "\n",
        "\n",
        "\n",
        "#       optimizer.step()\n",
        "\n",
        "\n",
        "\n",
        "        total_loss += loss.data\n",
        "    scheduler.step()\n",
        "    print('epoch [{}/{}], loss:{:.4f}'\n",
        "          .format(epoch+1, num_epochs, total_loss/12995*100))\n",
        "    loss_values.append(total_loss/12995*100)\n",
        "\n",
        "  test_generalization(epoch) #after final training\n"
      ]
    },
    {
      "cell_type": "code",
      "execution_count": 39,
      "metadata": {},
      "outputs": [
        {
          "name": "stdout",
          "output_type": "stream",
          "text": [
            "average loss in epoch #0: 219.48818969726562\n",
            "epoch [1/50], loss:3.9799\n",
            "average loss in epoch #1: 86.41525268554688\n",
            "epoch [2/50], loss:1.1655\n",
            "average loss in epoch #2: 9.005745887756348\n",
            "epoch [3/50], loss:0.1621\n",
            "average loss in epoch #3: 5.909333229064941\n",
            "epoch [4/50], loss:0.1388\n",
            "average loss in epoch #4: 5.423397064208984\n",
            "epoch [5/50], loss:0.1318\n",
            "average loss in epoch #5: 5.572886943817139\n",
            "epoch [6/50], loss:0.1298\n",
            "average loss in epoch #6: 5.251810550689697\n",
            "epoch [7/50], loss:0.1270\n",
            "average loss in epoch #7: 5.208189487457275\n",
            "epoch [8/50], loss:0.1253\n",
            "average loss in epoch #8: 5.097899436950684\n",
            "epoch [9/50], loss:0.1237\n",
            "average loss in epoch #9: 5.11765718460083\n",
            "epoch [10/50], loss:0.1227\n",
            "average loss in epoch #10: 5.004364967346191\n",
            "epoch [11/50], loss:0.1204\n",
            "average loss in epoch #11: 4.911810874938965\n",
            "epoch [12/50], loss:0.1200\n",
            "average loss in epoch #12: 4.891517639160156\n",
            "epoch [13/50], loss:0.1188\n",
            "average loss in epoch #13: 4.853390693664551\n",
            "epoch [14/50], loss:0.1182\n",
            "average loss in epoch #14: 4.8559136390686035\n",
            "epoch [15/50], loss:0.1105\n",
            "average loss in epoch #15: 1.9862148761749268\n",
            "epoch [16/50], loss:0.0175\n",
            "average loss in epoch #16: 0.6608697772026062\n",
            "epoch [17/50], loss:0.0091\n",
            "average loss in epoch #17: 0.24384616315364838\n",
            "epoch [18/50], loss:0.0069\n",
            "average loss in epoch #18: 0.4177241921424866\n",
            "epoch [19/50], loss:0.0056\n",
            "average loss in epoch #19: 0.1967223882675171\n",
            "epoch [20/50], loss:0.0056\n",
            "average loss in epoch #20: 0.4982207417488098\n",
            "epoch [21/50], loss:0.0050\n",
            "average loss in epoch #21: 0.16830699145793915\n",
            "epoch [22/50], loss:0.0047\n",
            "average loss in epoch #22: 0.31287696957588196\n",
            "epoch [23/50], loss:0.0045\n",
            "average loss in epoch #23: 0.11505331844091415\n",
            "epoch [24/50], loss:0.0047\n",
            "average loss in epoch #24: 0.18762800097465515\n",
            "epoch [25/50], loss:0.0041\n",
            "average loss in epoch #25: 0.10834944248199463\n",
            "epoch [26/50], loss:0.0038\n",
            "average loss in epoch #26: 0.3543645739555359\n",
            "epoch [27/50], loss:0.0038\n",
            "average loss in epoch #27: 0.19675935804843903\n",
            "epoch [28/50], loss:0.0040\n",
            "average loss in epoch #28: 0.12353002279996872\n",
            "epoch [29/50], loss:0.0031\n",
            "average loss in epoch #29: 0.15530206263065338\n",
            "epoch [30/50], loss:0.0034\n",
            "average loss in epoch #30: 0.27544716000556946\n",
            "epoch [31/50], loss:0.0014\n",
            "average loss in epoch #31: 0.05614148825407028\n",
            "epoch [32/50], loss:0.0013\n",
            "average loss in epoch #32: 0.055019669234752655\n",
            "epoch [33/50], loss:0.0013\n",
            "average loss in epoch #33: 0.0537923127412796\n",
            "epoch [34/50], loss:0.0012\n",
            "average loss in epoch #34: 0.052212491631507874\n",
            "epoch [35/50], loss:0.0012\n",
            "average loss in epoch #35: 0.05371160805225372\n",
            "epoch [36/50], loss:0.0012\n",
            "average loss in epoch #36: 0.05123944580554962\n",
            "epoch [37/50], loss:0.0012\n",
            "average loss in epoch #37: 0.05257634446024895\n",
            "epoch [38/50], loss:0.0012\n",
            "average loss in epoch #38: 0.05335965380072594\n",
            "epoch [39/50], loss:0.0012\n",
            "average loss in epoch #39: 0.05979060009121895\n",
            "epoch [40/50], loss:0.0012\n",
            "average loss in epoch #40: 0.048407647758722305\n",
            "epoch [41/50], loss:0.0012\n",
            "average loss in epoch #41: 0.046885088086128235\n",
            "epoch [42/50], loss:0.0011\n",
            "average loss in epoch #42: 0.04712361469864845\n",
            "epoch [43/50], loss:0.0011\n",
            "average loss in epoch #43: 0.05020661652088165\n",
            "epoch [44/50], loss:0.0011\n",
            "average loss in epoch #44: 0.05772039294242859\n",
            "epoch [45/50], loss:0.0011\n",
            "average loss in epoch #45: 0.043571244925260544\n",
            "epoch [46/50], loss:0.0011\n",
            "average loss in epoch #46: 0.051108770072460175\n",
            "epoch [47/50], loss:0.0010\n",
            "average loss in epoch #47: 0.04980143904685974\n",
            "epoch [48/50], loss:0.0010\n",
            "average loss in epoch #48: 0.04672934114933014\n",
            "epoch [49/50], loss:0.0010\n",
            "average loss in epoch #49: 0.03947610408067703\n",
            "epoch [50/50], loss:0.0010\n",
            "average loss in epoch #49: 0.0421224981546402\n"
          ]
        }
      ],
      "source": [
        "train_LSTM()"
      ]
    },
    {
      "cell_type": "code",
      "execution_count": 40,
      "metadata": {},
      "outputs": [
        {
          "data": {
            "image/png": "[encoded data removed]",
            "text/plain": [
              "<Figure size 640x480 with 1 Axes>"
            ]
          },
          "metadata": {},
          "output_type": "display_data"
        }
      ],
      "source": [
        "# Plot avg error over epochs\n",
        "x = np.arange(1,num_epochs+1 , dtype = int)\n",
        "fig, ax = plt.subplots()\n",
        "plt.plot(x, LSTM_accuracy_array.T)\n",
        "ax.set_xlabel('Epoch')\n",
        "ax.set_ylabel('Accuracy %')\n",
        "ax.set_title('LSTM Accuracy Test Accuracy Over Time')\n",
        "plt.show()"
      ]
    },
    {
      "cell_type": "code",
      "execution_count": 41,
      "metadata": {},
      "outputs": [],
      "source": [
        "# PATH = \"LSTM_model50k.pt\"\n",
        "# torch.save(modelLSTM.state_dict(), PATH)"
      ]
    },
    {
      "cell_type": "markdown",
      "metadata": {},
      "source": [
        "# RNN"
      ]
    },
    {
      "cell_type": "code",
      "execution_count": 66,
      "metadata": {},
      "outputs": [],
      "source": [
        "# Define the RNN model class\n",
        "num_epochs = 50\n",
        "class RNNModel(nn.Module):\n",
        "    def __init__(self, input_size, hidden_size, num_layers, output_size):\n",
        "        super(RNNModel, self).__init__()\n",
        "#         super(RNNModel, self).__init()\n",
        "        self.hidden_size = hidden_size\n",
        "        self.num_layers = num_layers\n",
        "        self.output_size = output_size\n",
        "\n",
        "        # Define the RNN layer\n",
        "        self.rnn = nn.RNN(input_size, hidden_size, num_layers, batch_first=True)\n",
        "\n",
        "        # Define the output layer\n",
        "        self.fc = nn.Linear(hidden_size, output_size)\n",
        "\n",
        "    def forward(self, x):\n",
        "        # Initialize hidden state with zeros\n",
        "        h0 = torch.zeros(self.num_layers, x.size(0), self.hidden_size)\n",
        "\n",
        "        # print(f\"self.num_layers: {self.num_layers}\")\n",
        "        # print(f\"x.size(0): {x.size(0)}\")\n",
        "        # print(f\"self.hidden_size: {self.hidden_size}\")\n",
        "        out, _ = self.rnn(x, h0)\n",
        "\n",
        "        # print(f\"out.shape: {out.shape}\")\n",
        "\n",
        "        out = self.fc(out[-1, :, :])\n",
        "        # print(f\"out.shape: {out.shape}\")\n",
        "        # quit()\n",
        "        return out\n",
        "\n"
      ]
    },
    {
      "cell_type": "code",
      "execution_count": 67,
      "metadata": {},
      "outputs": [],
      "source": [
        "# Set the input size, hidden size, number of layers, and output size\n",
        "input_size = 13  # Example input size (adjust as needed)\n",
        "hidden_size = 4  # Number of units in the hidden state\n",
        "num_layers = 8  # Number of RNN layers\n",
        "output_size = 4  # Example output size (adjust as needed)\n",
        "\n",
        "# Create the RNN model\n",
        "modelRNN = RNNModel(input_size, hidden_size, num_layers, output_size)\n",
        "\n",
        "# Define the loss function and optimizer\n",
        "criterion = nn.MSELoss()\n",
        "optimizer = torch.optim.AdamW(modelRNN.parameters(), lr=0.005)\n",
        "# optimizer = torch.optim.SGD(modelRNN.parameters(), lr=learning_rate, momentum = 0.9, weight_decay=1e-5)\n",
        "\n",
        "scheduler = torch.optim.lr_scheduler.StepLR(optimizer, step_size=30, gamma=0.1)\n",
        "RNN_accuracy_array = np.zeros(num_epochs)\n"
      ]
    },
    {
      "cell_type": "code",
      "execution_count": 68,
      "metadata": {},
      "outputs": [],
      "source": [
        "def test_generalization(epoch):\n",
        "    #Before training and at every stage of training\n",
        "    total_loss = []\n",
        "    with torch.no_grad():\n",
        "      for data in test_dataloader:\n",
        "        input_data, output_data = data\n",
        "\n",
        "\n",
        "        # Add a batch dimension if necessary\n",
        "        if input_data.dim() == 2:\n",
        "            input_data = input_data.unsqueeze(0)\n",
        "\n",
        "        output_pred = modelRNN(input_data)\n",
        "        loss = criterion(output_pred, output_data)\n",
        "\n",
        "        total_loss.append(loss)\n",
        "\n",
        "\n",
        "    average_loss = sum(total_loss) / len(total_loss)\n",
        "    print(f\"average test error in epoch #{epoch}: {average_loss * 100}%\")\n",
        "    RNN_accuracy_array[epoch] = average_loss * 100\n",
        "\n",
        "\n",
        "\n",
        "loss_values = []\n",
        "\n",
        "def train_RNN():\n",
        "  #train:\n",
        "  for epoch in range(num_epochs):\n",
        "\n",
        "    # test before training starts and at every epoch\n",
        "    test_generalization(epoch)\n",
        "\n",
        "\n",
        "\n",
        "    #train over epochs\n",
        "    total_loss = 0\n",
        "    for data in train_dataloader:\n",
        "        input_data, output_data = data\n",
        "\n",
        "\n",
        "        # Add a batch dimension if necessary\n",
        "        if input_data.dim() == 2:\n",
        "            input_data = input_data.unsqueeze(0)\n",
        "        output_pred = modelRNN(input_data)\n",
        "        loss = criterion(output_pred, output_data)\n",
        "\n",
        "        optimizer.zero_grad()\n",
        "        loss.backward()\n",
        "\n",
        "        # for param in modelRNN.parameters():\n",
        "        #     gradients_by_epoch[param].append(param.grad.clone().detach())\n",
        "\n",
        "        optimizer.step()\n",
        "\n",
        "        # for param in modelRNN.parameters():\n",
        "        #     param.grad = None\n",
        "\n",
        "\n",
        "\n",
        "#       optimizer.step()\n",
        "\n",
        "\n",
        "\n",
        "        total_loss += loss.data\n",
        "    scheduler.step()\n",
        "    print('epoch [{}/{}], loss:{:.4f}'\n",
        "          .format(epoch+1, num_epochs, total_loss/12995*100))\n",
        "    loss_values.append(total_loss/12995*100)\n",
        "\n",
        "  test_generalization(epoch) #after final training\n"
      ]
    },
    {
      "cell_type": "code",
      "execution_count": 69,
      "metadata": {},
      "outputs": [
        {
          "name": "stdout",
          "output_type": "stream",
          "text": [
            "average test error in epoch #0: 228.26797485351562%\n",
            "epoch [1/50], loss:3.8944\n",
            "average test error in epoch #1: 136.58493041992188%\n",
            "epoch [2/50], loss:3.2491\n",
            "average test error in epoch #2: 134.90635681152344%\n",
            "epoch [3/50], loss:3.2327\n",
            "average test error in epoch #3: 134.41314697265625%\n",
            "epoch [4/50], loss:3.2184\n",
            "average test error in epoch #4: 132.5318603515625%\n",
            "epoch [5/50], loss:2.5776\n",
            "average test error in epoch #5: 66.99949645996094%\n",
            "epoch [6/50], loss:1.4319\n",
            "average test error in epoch #6: 58.2465705871582%\n",
            "epoch [7/50], loss:1.3568\n",
            "average test error in epoch #7: 56.372703552246094%\n",
            "epoch [8/50], loss:1.3385\n",
            "average test error in epoch #8: 55.927677154541016%\n",
            "epoch [9/50], loss:1.3327\n",
            "average test error in epoch #9: 55.64622116088867%\n",
            "epoch [10/50], loss:1.3268\n",
            "average test error in epoch #10: 56.68265151977539%\n",
            "epoch [11/50], loss:1.3210\n",
            "average test error in epoch #11: 55.08347702026367%\n",
            "epoch [12/50], loss:1.3174\n",
            "average test error in epoch #12: 54.995853424072266%\n",
            "epoch [13/50], loss:1.3183\n",
            "average test error in epoch #13: 55.311065673828125%\n",
            "epoch [14/50], loss:1.3123\n",
            "average test error in epoch #14: 54.740177154541016%\n",
            "epoch [15/50], loss:1.3127\n",
            "average test error in epoch #15: 54.81646728515625%\n",
            "epoch [16/50], loss:1.3131\n",
            "average test error in epoch #16: 55.092628479003906%\n",
            "epoch [17/50], loss:1.3128\n",
            "average test error in epoch #17: 55.644775390625%\n",
            "epoch [18/50], loss:1.3103\n",
            "average test error in epoch #18: 54.63188934326172%\n",
            "epoch [19/50], loss:1.3080\n",
            "average test error in epoch #19: 54.76242446899414%\n",
            "epoch [20/50], loss:1.3115\n",
            "average test error in epoch #20: 55.34191131591797%\n",
            "epoch [21/50], loss:1.3078\n",
            "average test error in epoch #21: 54.95812225341797%\n",
            "epoch [22/50], loss:1.3113\n",
            "average test error in epoch #22: 54.75330352783203%\n",
            "epoch [23/50], loss:1.3074\n",
            "average test error in epoch #23: 54.839080810546875%\n",
            "epoch [24/50], loss:1.3041\n",
            "average test error in epoch #24: 54.86677169799805%\n",
            "epoch [25/50], loss:1.2978\n",
            "average test error in epoch #25: 54.17934036254883%\n",
            "epoch [26/50], loss:1.2964\n",
            "average test error in epoch #26: 54.89655685424805%\n",
            "epoch [27/50], loss:1.2932\n",
            "average test error in epoch #27: 53.959678649902344%\n",
            "epoch [28/50], loss:1.2963\n",
            "average test error in epoch #28: 54.91399002075195%\n",
            "epoch [29/50], loss:1.2950\n",
            "average test error in epoch #29: 55.10860824584961%\n",
            "epoch [30/50], loss:1.2925\n",
            "average test error in epoch #30: 54.91796875%\n",
            "epoch [31/50], loss:1.2804\n",
            "average test error in epoch #31: 53.78547286987305%\n",
            "epoch [32/50], loss:1.2785\n",
            "average test error in epoch #32: 53.74356460571289%\n",
            "epoch [33/50], loss:1.2778\n",
            "average test error in epoch #33: 53.71666717529297%\n",
            "epoch [34/50], loss:1.2769\n",
            "average test error in epoch #34: 53.69743728637695%\n",
            "epoch [35/50], loss:1.2769\n",
            "average test error in epoch #35: 53.67928695678711%\n",
            "epoch [36/50], loss:1.2769\n",
            "average test error in epoch #36: 53.64726638793945%\n",
            "epoch [37/50], loss:1.2757\n",
            "average test error in epoch #37: 53.61662673950195%\n",
            "epoch [38/50], loss:1.2757\n",
            "average test error in epoch #38: 53.652496337890625%\n",
            "epoch [39/50], loss:1.2756\n",
            "average test error in epoch #39: 53.61030578613281%\n",
            "epoch [40/50], loss:1.2759\n",
            "average test error in epoch #40: 53.64731979370117%\n",
            "epoch [41/50], loss:1.2752\n",
            "average test error in epoch #41: 53.590660095214844%\n",
            "epoch [42/50], loss:1.2750\n",
            "average test error in epoch #42: 53.669525146484375%\n",
            "epoch [43/50], loss:1.2751\n",
            "average test error in epoch #43: 53.57236862182617%\n",
            "epoch [44/50], loss:1.2751\n",
            "average test error in epoch #44: 53.585445404052734%\n",
            "epoch [45/50], loss:1.2749\n",
            "average test error in epoch #45: 53.67518615722656%\n",
            "epoch [46/50], loss:1.2746\n",
            "average test error in epoch #46: 53.56922149658203%\n",
            "epoch [47/50], loss:1.2750\n",
            "average test error in epoch #47: 53.59339904785156%\n",
            "epoch [48/50], loss:1.2743\n",
            "average test error in epoch #48: 53.54509353637695%\n",
            "epoch [49/50], loss:1.2743\n",
            "average test error in epoch #49: 53.76738739013672%\n",
            "epoch [50/50], loss:1.2749\n",
            "average test error in epoch #50: 53.62809371948242%\n"
          ]
        },
        {
          "ename": "IndexError",
          "evalue": "index 50 is out of bounds for axis 0 with size 50",
          "output_type": "error",
          "traceback": [
            "\u001b[0;31m---------------------------------------------------------------------------\u001b[0m",
            "\u001b[0;31mIndexError\u001b[0m                                Traceback (most recent call last)",
            "\u001b[1;32m/home/factslabegmc/newtonraphson_final_ws/src/newton_raphson/newton_raphson/generate_data.ipynb Cell 44\u001b[0m line \u001b[0;36m1\n\u001b[0;32m----> <a href='vscode-notebook-cell:/home/factslabegmc/newtonraphson_final_ws/src/newton_raphson/newton_raphson/generate_data.ipynb#X61sZmlsZQ%3D%3D?line=0'>1</a>\u001b[0m train_RNN()\n",
            "\u001b[1;32m/home/factslabegmc/newtonraphson_final_ws/src/newton_raphson/newton_raphson/generate_data.ipynb Cell 44\u001b[0m line \u001b[0;36m3\n\u001b[1;32m     <a href='vscode-notebook-cell:/home/factslabegmc/newtonraphson_final_ws/src/newton_raphson/newton_raphson/generate_data.ipynb#X61sZmlsZQ%3D%3D?line=26'>27</a>\u001b[0m \u001b[39mdef\u001b[39;00m \u001b[39mtrain_RNN\u001b[39m():\n\u001b[1;32m     <a href='vscode-notebook-cell:/home/factslabegmc/newtonraphson_final_ws/src/newton_raphson/newton_raphson/generate_data.ipynb#X61sZmlsZQ%3D%3D?line=27'>28</a>\u001b[0m   \u001b[39m#train:\u001b[39;00m\n\u001b[1;32m     <a href='vscode-notebook-cell:/home/factslabegmc/newtonraphson_final_ws/src/newton_raphson/newton_raphson/generate_data.ipynb#X61sZmlsZQ%3D%3D?line=28'>29</a>\u001b[0m   \u001b[39mfor\u001b[39;00m epoch \u001b[39min\u001b[39;00m \u001b[39mrange\u001b[39m(\u001b[39m80\u001b[39m):\n\u001b[1;32m     <a href='vscode-notebook-cell:/home/factslabegmc/newtonraphson_final_ws/src/newton_raphson/newton_raphson/generate_data.ipynb#X61sZmlsZQ%3D%3D?line=29'>30</a>\u001b[0m \n\u001b[1;32m     <a href='vscode-notebook-cell:/home/factslabegmc/newtonraphson_final_ws/src/newton_raphson/newton_raphson/generate_data.ipynb#X61sZmlsZQ%3D%3D?line=30'>31</a>\u001b[0m     \u001b[39m# test before training starts and at every epoch\u001b[39;00m\n\u001b[0;32m---> <a href='vscode-notebook-cell:/home/factslabegmc/newtonraphson_final_ws/src/newton_raphson/newton_raphson/generate_data.ipynb#X61sZmlsZQ%3D%3D?line=31'>32</a>\u001b[0m     test_generalization(epoch)\n\u001b[1;32m     <a href='vscode-notebook-cell:/home/factslabegmc/newtonraphson_final_ws/src/newton_raphson/newton_raphson/generate_data.ipynb#X61sZmlsZQ%3D%3D?line=35'>36</a>\u001b[0m     \u001b[39m#train over epochs\u001b[39;00m\n\u001b[1;32m     <a href='vscode-notebook-cell:/home/factslabegmc/newtonraphson_final_ws/src/newton_raphson/newton_raphson/generate_data.ipynb#X61sZmlsZQ%3D%3D?line=36'>37</a>\u001b[0m     total_loss \u001b[39m=\u001b[39m \u001b[39m0\u001b[39m\n",
            "\u001b[1;32m/home/factslabegmc/newtonraphson_final_ws/src/newton_raphson/newton_raphson/generate_data.ipynb Cell 44\u001b[0m line \u001b[0;36m2\n\u001b[1;32m     <a href='vscode-notebook-cell:/home/factslabegmc/newtonraphson_final_ws/src/newton_raphson/newton_raphson/generate_data.ipynb#X61sZmlsZQ%3D%3D?line=18'>19</a>\u001b[0m average_loss \u001b[39m=\u001b[39m \u001b[39msum\u001b[39m(total_loss) \u001b[39m/\u001b[39m \u001b[39mlen\u001b[39m(total_loss)\n\u001b[1;32m     <a href='vscode-notebook-cell:/home/factslabegmc/newtonraphson_final_ws/src/newton_raphson/newton_raphson/generate_data.ipynb#X61sZmlsZQ%3D%3D?line=19'>20</a>\u001b[0m \u001b[39mprint\u001b[39m(\u001b[39mf\u001b[39m\u001b[39m\"\u001b[39m\u001b[39maverage test error in epoch #\u001b[39m\u001b[39m{\u001b[39;00mepoch\u001b[39m}\u001b[39;00m\u001b[39m: \u001b[39m\u001b[39m{\u001b[39;00maverage_loss\u001b[39m \u001b[39m\u001b[39m*\u001b[39m\u001b[39m \u001b[39m\u001b[39m100\u001b[39m\u001b[39m}\u001b[39;00m\u001b[39m%\u001b[39m\u001b[39m\"\u001b[39m)\n\u001b[0;32m---> <a href='vscode-notebook-cell:/home/factslabegmc/newtonraphson_final_ws/src/newton_raphson/newton_raphson/generate_data.ipynb#X61sZmlsZQ%3D%3D?line=20'>21</a>\u001b[0m RNN_accuracy_array[epoch] \u001b[39m=\u001b[39m average_loss \u001b[39m*\u001b[39m \u001b[39m100\u001b[39m\n",
            "\u001b[0;31mIndexError\u001b[0m: index 50 is out of bounds for axis 0 with size 50"
          ]
        }
      ],
      "source": [
        "train_RNN()"
      ]
    },
    {
      "cell_type": "code",
      "execution_count": 60,
      "metadata": {},
      "outputs": [
        {
          "data": {
            "image/png": "[encoded data removed]",
            "text/plain": [
              "<Figure size 640x480 with 1 Axes>"
            ]
          },
          "metadata": {},
          "output_type": "display_data"
        }
      ],
      "source": [
        "# Plot avg error over epochs\n",
        "x = np.arange(1,num_epochs+1 , dtype = int)\n",
        "fig, ax = plt.subplots()\n",
        "plt.plot(x, RNN_accuracy_array.T)\n",
        "ax.set_xlabel('Epoch')\n",
        "ax.set_ylabel('Accuracy %')\n",
        "ax.set_title('RNN Accuracy Test Accuracy Over Time')\n",
        "plt.show()"
      ]
    },
    {
      "cell_type": "code",
      "execution_count": null,
      "metadata": {},
      "outputs": [],
      "source": [
        "# PATH = \"RNN_model50k.pt\"\n",
        "# torch.save(modelRNN.state_dict(), PATH)"
      ]
    },
    {
      "cell_type": "code",
      "execution_count": 63,
      "metadata": {},
      "outputs": [
        {
          "data": {
            "image/png": "[encoded data removed]",
            "text/plain": [
              "<Figure size 1000x600 with 1 Axes>"
            ]
          },
          "metadata": {},
          "output_type": "display_data"
        }
      ],
      "source": [
        "# Create x-values (e.g., epochs)\n",
        "epochs = range(1, num_epochs + 1)\n",
        "\n",
        "# Plot the loss values for each model\n",
        "plt.figure(figsize=(10, 6))\n",
        "plt.plot(epochs, FF_accuracy_array, label='FF', marker='o')\n",
        "plt.plot(epochs, RNN_accuracy_array, label='RNN', marker='o')\n",
        "plt.plot(epochs, LSTM_accuracy_array, label='LSTM', marker='o')\n",
        "\n",
        "# Add labels and a legend\n",
        "plt.xlabel('Epochs')\n",
        "plt.ylabel('Loss')\n",
        "plt.title('Accuracy over Epochs Comparison for Three Models')\n",
        "plt.legend()\n",
        "\n",
        "# Show the plot\n",
        "plt.grid()\n",
        "plt.show()"
      ]
    },
    {
      "cell_type": "code",
      "execution_count": null,
      "metadata": {},
      "outputs": [],
      "source": []
    }
  ],
  "metadata": {
    "colab": {
      "provenance": []
    },
    "kernelspec": {
      "display_name": "Python 3",
      "name": "python3"
    },
    "language_info": {
      "codemirror_mode": {
        "name": "ipython",
        "version": 3
      },
      "file_extension": ".py",
      "mimetype": "text/x-python",
      "name": "python",
      "nbconvert_exporter": "python",
      "pygments_lexer": "ipython3",
      "version": "3.8.10"
    }
  },
  "nbformat": 4,
  "nbformat_minor": 0
}
